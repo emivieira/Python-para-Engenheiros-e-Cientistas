{
  "nbformat": 4,
  "nbformat_minor": 0,
  "metadata": {
    "colab": {
      "provenance": [],
      "authorship_tag": "ABX9TyMUtszz6zHpfUqBGKaXv/HK"
    },
    "kernelspec": {
      "name": "python3",
      "display_name": "Python 3"
    },
    "language_info": {
      "name": "python"
    }
  },
  "cells": [
    {
      "cell_type": "markdown",
      "source": [
        "#Exercícios de Python\n",
        "Exercícios do curso [Python para Engenheiros e Cientistas](https://www.udemy.com/share/103bnL3@OPEpKYkYxG07pM5_h9C2YMd_yqqbGVVhWEaoefZzWD7eMttb2t1K_1zsaxPZkA4E/)"
      ],
      "metadata": {
        "id": "6CfzOph-EoN_"
      }
    },
    {
      "cell_type": "markdown",
      "source": [
        "## 3.4 Exercício 1\n",
        "Crie um condicional que, dada uma variável, faça as operações:\n",
        "\n",
        "*  Se for número positivo, retorna \"Número positivo\"\n",
        "*  Se for número negativo, retorna \"Número negativo\"\n",
        "*  Se for zero, retorna \"zero\"\n",
        "*  Se não for número, retorna \"Não é um número\""
      ],
      "metadata": {
        "id": "LkXEtCl6Edj8"
      }
    },
    {
      "cell_type": "code",
      "source": [
        "def avalianumero(x):\n",
        "  if isinstance(x, (int, float)):\n",
        "    if x > 0:\n",
        "      print(\"Número positivo.\")\n",
        "    elif x < 0:\n",
        "      print(\"Número negativo.\")\n",
        "    elif x == 0:\n",
        "      print(\"Zero.\")\n",
        "  elif isinstance(x, complex):\n",
        "    print(\"Número complexo.\")\n",
        "  else:\n",
        "    print(\"Não é um número.\")"
      ],
      "metadata": {
        "id": "Fu2bp6IkIG5j"
      },
      "execution_count": null,
      "outputs": []
    },
    {
      "cell_type": "code",
      "source": [
        "x1 = 1\n",
        "x2 = -1\n",
        "x3 = 0\n",
        "x4 = 1 + 2j\n",
        "x5 = \"Texto\""
      ],
      "metadata": {
        "id": "5a0Mc7ioFOdG"
      },
      "execution_count": null,
      "outputs": []
    },
    {
      "cell_type": "code",
      "execution_count": null,
      "metadata": {
        "colab": {
          "base_uri": "https://localhost:8080/"
        },
        "id": "YqWxUQTVEXHS",
        "outputId": "91924cfa-2b4f-4a7c-c9f4-2420b9ea3d04"
      },
      "outputs": [
        {
          "output_type": "stream",
          "name": "stdout",
          "text": [
            "Número positivo.\n",
            "Número negativo.\n",
            "Zero.\n",
            "Número complexo.\n",
            "Não é um número.\n"
          ]
        }
      ],
      "source": [
        "avalianumero(x1)\n",
        "avalianumero(x2)\n",
        "avalianumero(x3)\n",
        "avalianumero(x4)\n",
        "avalianumero(x5)"
      ]
    },
    {
      "cell_type": "markdown",
      "source": [
        "## 3.5 Exercício 2\n",
        "Faça um loop for para criar uma lista que intercale os valores das listas a seguir:\n",
        "\n",
        "valores = [1,2,3,4,5]\n",
        "\n",
        "letras = ['a','b','c','d','e']"
      ],
      "metadata": {
        "id": "tCZHHgUdJIDC"
      }
    },
    {
      "cell_type": "code",
      "source": [
        "valores = [1,2,3,4,5]\n",
        "letras = ['a','b','c','d','e']\n",
        "\n",
        "lista_intercalada = []\n",
        "\n",
        "for i in range(5):\n",
        "    lista_intercalada.append(valores[i])\n",
        "    lista_intercalada.append(letras[i])\n",
        "\n",
        "lista_intercalada"
      ],
      "metadata": {
        "colab": {
          "base_uri": "https://localhost:8080/"
        },
        "id": "5Q3UzMvgFQQL",
        "outputId": "7681770c-bb6b-449e-cfeb-6de1a904cc24"
      },
      "execution_count": null,
      "outputs": [
        {
          "output_type": "execute_result",
          "data": {
            "text/plain": [
              "[1, 'a', 2, 'b', 3, 'c', 4, 'd', 5, 'e']"
            ]
          },
          "metadata": {},
          "execution_count": 85
        }
      ]
    },
    {
      "cell_type": "markdown",
      "source": [
        "## 3.6 Exercício 3\n",
        "Dado um número inteiro, faça um operador while que calcule o fatorial desse número."
      ],
      "metadata": {
        "id": "KR4qzYoIOjV0"
      }
    },
    {
      "cell_type": "code",
      "source": [
        "# n! = (n)*(n-1)...(1)\n",
        "n = 5\n",
        "f = 1\n",
        "\n",
        "if type(n) is int:\n",
        "  i = n\n",
        "  while i > 0:\n",
        "    f *= i          #f = i * f\n",
        "    i-= 1           #i = i - 1\n",
        "\n",
        "print(n, \"! = \", f)"
      ],
      "metadata": {
        "colab": {
          "base_uri": "https://localhost:8080/"
        },
        "id": "ZMn4-j0bUf2_",
        "outputId": "02a51e6b-eee2-4250-978e-42ad497e3da3"
      },
      "execution_count": null,
      "outputs": [
        {
          "output_type": "stream",
          "name": "stdout",
          "text": [
            "5 ! =  120\n"
          ]
        }
      ]
    },
    {
      "cell_type": "markdown",
      "source": [
        "## 3.7 Desafio 1 - Números primos\n",
        "Crie uma lista com os cinquenta primeiros números primos.\n",
        "\n",
        "Dica: pode ser utilizado o comando break e continue"
      ],
      "metadata": {
        "id": "AKSrA9qjVhPU"
      }
    },
    {
      "cell_type": "code",
      "source": [
        "# Um número é classificado como primo se ele é maior do que um e é divisível apenas por um e por ele mesmo\n",
        "# Apenas números naturais são classificados como primos. O primeiro n primo é 2\n",
        "\n",
        "lista_primos = []\n",
        "n = 2\n",
        "\n",
        "while len(lista_primos) < 50:\n",
        "    nprimo = True\n",
        "    if n > 1:\n",
        "        for i in range(2, int(n ** 0.5) + 1):\n",
        "            if n % i == 0:\n",
        "                nprimo = False\n",
        "                break\n",
        "        if nprimo:\n",
        "            lista_primos.append(n)\n",
        "    n += 1\n",
        "\n",
        "print(\"Lista:\", lista_primos)\n",
        "print(\"Tamanho da lista:\", len(lista_primos))"
      ],
      "metadata": {
        "colab": {
          "base_uri": "https://localhost:8080/"
        },
        "id": "iZTVgi0okQCQ",
        "outputId": "c40b538a-be75-4e37-b6cb-f5cd93cb8091"
      },
      "execution_count": null,
      "outputs": [
        {
          "output_type": "stream",
          "name": "stdout",
          "text": [
            "Lista: [2, 3, 5, 7, 11, 13, 17, 19, 23, 29, 31, 37, 41, 43, 47, 53, 59, 61, 67, 71, 73, 79, 83, 89, 97, 101, 103, 107, 109, 113, 127, 131, 137, 139, 149, 151, 157, 163, 167, 173, 179, 181, 191, 193, 197, 199, 211, 223, 227, 229]\n",
            "Tamanho da lista: 50\n"
          ]
        }
      ]
    }
  ]
}
