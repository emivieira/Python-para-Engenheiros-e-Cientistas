{
  "nbformat": 4,
  "nbformat_minor": 0,
  "metadata": {
    "colab": {
      "provenance": [],
      "toc_visible": true,
      "authorship_tag": "ABX9TyPHbD0cQhKbptdy+kCc62fh"
    },
    "kernelspec": {
      "name": "python3",
      "display_name": "Python 3"
    },
    "language_info": {
      "name": "python"
    }
  },
  "cells": [
    {
      "cell_type": "markdown",
      "source": [
        "#Exercícios de Python: seção 1\n",
        "Exercícios do **Módulo/Seção 1** do curso [Python para Engenheiros e Cientistas](https://www.udemy.com/share/103bnL3@OPEpKYkYxG07pM5_h9C2YMd_yqqbGVVhWEaoefZzWD7eMttb2t1K_1zsaxPZkA4E/)\n",
        "\n"
      ],
      "metadata": {
        "id": "6CfzOph-EoN_"
      }
    },
    {
      "cell_type": "markdown",
      "source": [
        "## Capítulo 3"
      ],
      "metadata": {
        "id": "7VIFl64D0sSe"
      }
    },
    {
      "cell_type": "markdown",
      "source": [
        "### 3.4 Exercício 1\n",
        "Crie um condicional que, dada uma variável, faça as operações:\n",
        "\n",
        "*  Se for número positivo, retorna \"Número positivo\"\n",
        "*  Se for número negativo, retorna \"Número negativo\"\n",
        "*  Se for zero, retorna \"zero\"\n",
        "*  Se não for número, retorna \"Não é um número\""
      ],
      "metadata": {
        "id": "LkXEtCl6Edj8"
      }
    },
    {
      "cell_type": "code",
      "source": [
        "def avalianumero(x):\n",
        "  if isinstance(x, (int, float)):\n",
        "    if x > 0:\n",
        "      print(\"Número positivo.\")\n",
        "    elif x < 0:\n",
        "      print(\"Número negativo.\")\n",
        "    elif x == 0:\n",
        "      print(\"Zero.\")\n",
        "  elif isinstance(x, complex):\n",
        "    print(\"Número complexo.\")\n",
        "  else:\n",
        "    print(\"Não é um número.\")"
      ],
      "metadata": {
        "id": "Fu2bp6IkIG5j"
      },
      "execution_count": null,
      "outputs": []
    },
    {
      "cell_type": "code",
      "source": [
        "x1 = 1\n",
        "x2 = -1\n",
        "x3 = 0\n",
        "x4 = 1 + 2j\n",
        "x5 = \"Texto\""
      ],
      "metadata": {
        "id": "5a0Mc7ioFOdG"
      },
      "execution_count": null,
      "outputs": []
    },
    {
      "cell_type": "code",
      "execution_count": null,
      "metadata": {
        "colab": {
          "base_uri": "https://localhost:8080/"
        },
        "id": "YqWxUQTVEXHS",
        "outputId": "91924cfa-2b4f-4a7c-c9f4-2420b9ea3d04"
      },
      "outputs": [
        {
          "output_type": "stream",
          "name": "stdout",
          "text": [
            "Número positivo.\n",
            "Número negativo.\n",
            "Zero.\n",
            "Número complexo.\n",
            "Não é um número.\n"
          ]
        }
      ],
      "source": [
        "avalianumero(x1)\n",
        "avalianumero(x2)\n",
        "avalianumero(x3)\n",
        "avalianumero(x4)\n",
        "avalianumero(x5)"
      ]
    },
    {
      "cell_type": "markdown",
      "source": [
        "### 3.5 Exercício 2\n",
        "Faça um loop for para criar uma lista que intercale os valores das listas a seguir:\n",
        "\n",
        "valores = [1,2,3,4,5]\n",
        "\n",
        "letras = ['a','b','c','d','e']"
      ],
      "metadata": {
        "id": "tCZHHgUdJIDC"
      }
    },
    {
      "cell_type": "code",
      "source": [
        "valores = [1,2,3,4,5]\n",
        "letras = ['a','b','c','d','e']\n",
        "\n",
        "lista_intercalada = []\n",
        "\n",
        "for i in range(5):\n",
        "    lista_intercalada.append(valores[i])\n",
        "    lista_intercalada.append(letras[i])\n",
        "\n",
        "lista_intercalada"
      ],
      "metadata": {
        "colab": {
          "base_uri": "https://localhost:8080/"
        },
        "id": "5Q3UzMvgFQQL",
        "outputId": "7681770c-bb6b-449e-cfeb-6de1a904cc24"
      },
      "execution_count": null,
      "outputs": [
        {
          "output_type": "execute_result",
          "data": {
            "text/plain": [
              "[1, 'a', 2, 'b', 3, 'c', 4, 'd', 5, 'e']"
            ]
          },
          "metadata": {},
          "execution_count": 85
        }
      ]
    },
    {
      "cell_type": "markdown",
      "source": [
        "### 3.6 Exercício 3\n",
        "Dado um número inteiro, faça um operador while que calcule o fatorial desse número."
      ],
      "metadata": {
        "id": "KR4qzYoIOjV0"
      }
    },
    {
      "cell_type": "code",
      "source": [
        "# n! = (n)*(n-1)...(1)\n",
        "n = 5\n",
        "f = 1\n",
        "\n",
        "if type(n) is int:\n",
        "  i = n\n",
        "  while i > 0:\n",
        "    f *= i          #f = i * f\n",
        "    i-= 1           #i = i - 1\n",
        "\n",
        "print(n, \"! = \", f)"
      ],
      "metadata": {
        "colab": {
          "base_uri": "https://localhost:8080/"
        },
        "id": "ZMn4-j0bUf2_",
        "outputId": "02a51e6b-eee2-4250-978e-42ad497e3da3"
      },
      "execution_count": null,
      "outputs": [
        {
          "output_type": "stream",
          "name": "stdout",
          "text": [
            "5 ! =  120\n"
          ]
        }
      ]
    },
    {
      "cell_type": "markdown",
      "source": [
        "### 3.7 Desafio 1 - Números primos\n",
        "Crie uma lista com os cinquenta primeiros números primos.\n",
        "\n",
        "Dica: pode ser utilizado o comando break e continue"
      ],
      "metadata": {
        "id": "AKSrA9qjVhPU"
      }
    },
    {
      "cell_type": "code",
      "source": [
        "# Um número é classificado como primo se ele é maior do que um e é divisível apenas por um e por ele mesmo\n",
        "# Apenas números naturais são classificados como primos. O primeiro n primo é 2\n",
        "\n",
        "lista_primos = []\n",
        "n = 2\n",
        "\n",
        "while len(lista_primos) < 50:\n",
        "    nprimo = True\n",
        "    if n > 1:\n",
        "        for i in range(2, int(n ** 0.5) + 1):\n",
        "            if n % i == 0:\n",
        "                nprimo = False\n",
        "                break\n",
        "        if nprimo:\n",
        "            lista_primos.append(n)\n",
        "    n += 1\n",
        "\n",
        "print(\"Lista:\", lista_primos)\n",
        "print(\"Tamanho da lista:\", len(lista_primos))"
      ],
      "metadata": {
        "colab": {
          "base_uri": "https://localhost:8080/"
        },
        "id": "iZTVgi0okQCQ",
        "outputId": "c40b538a-be75-4e37-b6cb-f5cd93cb8091"
      },
      "execution_count": null,
      "outputs": [
        {
          "output_type": "stream",
          "name": "stdout",
          "text": [
            "Lista: [2, 3, 5, 7, 11, 13, 17, 19, 23, 29, 31, 37, 41, 43, 47, 53, 59, 61, 67, 71, 73, 79, 83, 89, 97, 101, 103, 107, 109, 113, 127, 131, 137, 139, 149, 151, 157, 163, 167, 173, 179, 181, 191, 193, 197, 199, 211, 223, 227, 229]\n",
            "Tamanho da lista: 50\n"
          ]
        }
      ]
    },
    {
      "cell_type": "markdown",
      "source": [
        "## Capítulo 4"
      ],
      "metadata": {
        "id": "vlptZA701GOO"
      }
    },
    {
      "cell_type": "markdown",
      "source": [
        "### 4.5 Exercício 1\n",
        "Dada a lista ['P','A','Y','A','T','A','H','O','N'], conte o número de variáveis 'A' e utilize um loop para remover todos os 'A'."
      ],
      "metadata": {
        "id": "tmv51qZOv6zm"
      }
    },
    {
      "cell_type": "code",
      "source": [
        "# Opção 1\n",
        "lista = ['P','A','Y','A','T','A','H','O','N']\n",
        "i = len(lista) - 1\n",
        "\n",
        "while i > 0:\n",
        "  if lista[i] == \"A\":\n",
        "    lista.pop(i)\n",
        "  i-= 1\n",
        "\n",
        "lista"
      ],
      "metadata": {
        "colab": {
          "base_uri": "https://localhost:8080/"
        },
        "id": "52oCjnRWTiQx",
        "outputId": "ac1bf66e-fef8-4568-cfaf-48f4a07f4c35"
      },
      "execution_count": 19,
      "outputs": [
        {
          "output_type": "execute_result",
          "data": {
            "text/plain": [
              "['P', 'Y', 'T', 'H', 'O', 'N']"
            ]
          },
          "metadata": {},
          "execution_count": 19
        }
      ]
    },
    {
      "cell_type": "code",
      "source": [
        "# Opção 2\n",
        "lista = ['P','A','Y','A','T','A','H','O','N']\n",
        "\n",
        "for i in enumerate(lista):\n",
        "  letra = i[1]\n",
        "  if letra == \"A\":\n",
        "    lista.pop(i[0])\n",
        "\n",
        "lista"
      ],
      "metadata": {
        "colab": {
          "base_uri": "https://localhost:8080/"
        },
        "id": "jKCdVoNCU-g5",
        "outputId": "209958ff-b747-431e-954f-23763f454c30"
      },
      "execution_count": 30,
      "outputs": [
        {
          "output_type": "execute_result",
          "data": {
            "text/plain": [
              "['P', 'Y', 'T', 'H', 'O', 'N']"
            ]
          },
          "metadata": {},
          "execution_count": 30
        }
      ]
    },
    {
      "cell_type": "markdown",
      "source": [
        "### 4.6 Exercício 2\n",
        "Utilizando somente uma linha de programação, crie uma lista que contenha os números ímpares de 1 a 51."
      ],
      "metadata": {
        "id": "lIaTRiipfWeL"
      }
    },
    {
      "cell_type": "code",
      "source": [
        "# Opção 1\n",
        "lista_impares = [(i*2+1) for i in range(26)]\n",
        "lista_impares"
      ],
      "metadata": {
        "id": "AnyFF0SlWfed"
      },
      "execution_count": 31,
      "outputs": []
    },
    {
      "cell_type": "code",
      "source": [
        "# Opção 2\n",
        "lista_impares = [i for i in range(1, 52) if i % 2 != 0]\n",
        "lista_impares"
      ],
      "metadata": {
        "colab": {
          "base_uri": "https://localhost:8080/"
        },
        "id": "F-k1bAE5W13o",
        "outputId": "36939653-9cd2-44f3-dc21-0d8cf4ac8675"
      },
      "execution_count": 35,
      "outputs": [
        {
          "output_type": "execute_result",
          "data": {
            "text/plain": [
              "[1,\n",
              " 3,\n",
              " 5,\n",
              " 7,\n",
              " 9,\n",
              " 11,\n",
              " 13,\n",
              " 15,\n",
              " 17,\n",
              " 19,\n",
              " 21,\n",
              " 23,\n",
              " 25,\n",
              " 27,\n",
              " 29,\n",
              " 31,\n",
              " 33,\n",
              " 35,\n",
              " 37,\n",
              " 39,\n",
              " 41,\n",
              " 43,\n",
              " 45,\n",
              " 47,\n",
              " 49,\n",
              " 51]"
            ]
          },
          "metadata": {},
          "execution_count": 35
        }
      ]
    },
    {
      "cell_type": "markdown",
      "source": [
        "### 4.7 Exercício 3\n",
        "Crie um dicionário que correlacione as seguintes listas:\n",
        "\n",
        "valores = [1,2,3,4,5]\n",
        "keys = ['a','b','c','d','e']\n",
        "\n",
        "Utilize um loop."
      ],
      "metadata": {
        "id": "OaUf0cCggL86"
      }
    },
    {
      "cell_type": "code",
      "source": [
        "valores = [1,2,3,4,5]\n",
        "keys = ['a','b','c','d','e']\n",
        "dicionario = {}\n",
        "\n",
        "for i in range(len(valores)):\n",
        "  dicionario[keys[i]] = valores[i]\n",
        "\n",
        "dicionario"
      ],
      "metadata": {
        "colab": {
          "base_uri": "https://localhost:8080/"
        },
        "id": "ozYTinihYj_a",
        "outputId": "db0faf66-644a-43f7-d5c7-283068ec646a"
      },
      "execution_count": 60,
      "outputs": [
        {
          "output_type": "execute_result",
          "data": {
            "text/plain": [
              "{'a': 1, 'b': 2, 'c': 3, 'd': 4, 'e': 5}"
            ]
          },
          "metadata": {},
          "execution_count": 60
        }
      ]
    },
    {
      "cell_type": "code",
      "source": [
        "valores = [1,2,3,4,5]\n",
        "keys = ['a','b','c','d','e']\n",
        "dicionario = {}\n",
        "\n",
        "if len(valores) == len(keys):\n",
        "  for i in range(len(valores)):\n",
        "    dicionario[keys[i]] = valores[i]\n",
        "else:\n",
        "  print(\"Tamanho das listas não correspondem.\")\n",
        "\n",
        "print(dicionario)"
      ],
      "metadata": {
        "colab": {
          "base_uri": "https://localhost:8080/"
        },
        "id": "Dwh7ZBKwaW3o",
        "outputId": "a15d20be-9f5b-446e-acbc-ee8422e18e95"
      },
      "execution_count": 66,
      "outputs": [
        {
          "output_type": "stream",
          "name": "stdout",
          "text": [
            "{'a': 1, 'b': 2, 'c': 3, 'd': 4, 'e': 5}\n"
          ]
        }
      ]
    },
    {
      "cell_type": "markdown",
      "source": [
        "### 4.8 Exercício 4\n",
        "A partir do dicionário criado no exercício anterior, recrie as listas keys e valores."
      ],
      "metadata": {
        "id": "N-IrkcLdgP8K"
      }
    },
    {
      "cell_type": "code",
      "source": [
        "valores = list(dicionario.values())\n",
        "keys = list(dicionario.keys())\n",
        "\n",
        "print(valores)\n",
        "print(keys)"
      ],
      "metadata": {
        "colab": {
          "base_uri": "https://localhost:8080/"
        },
        "id": "84flX91ve7Go",
        "outputId": "4caad2e0-81d5-41ac-d64d-98f5a37b1495"
      },
      "execution_count": 100,
      "outputs": [
        {
          "output_type": "stream",
          "name": "stdout",
          "text": [
            "[1, 2, 3, 4, 5]\n",
            "['a', 'b', 'c', 'd', 'e']\n"
          ]
        }
      ]
    },
    {
      "cell_type": "markdown",
      "source": [
        "### 4.9 Preparação para o desafio 1 (MATPLOTLIB)\n",
        "https://matplotlib.org/tutorials/introductory/usage.html#sphx-glr-tutorials-introductory-usage-py"
      ],
      "metadata": {
        "id": "V4UHtUWRgwSg"
      }
    },
    {
      "cell_type": "code",
      "source": [
        "import matplotlib.pyplot as plt\n",
        "\n",
        "x = [x for x in range(101)]\n",
        "y = [y**2 for y in x]\n",
        "\n",
        "plt.plot(x,y)"
      ],
      "metadata": {
        "colab": {
          "base_uri": "https://localhost:8080/",
          "height": 447
        },
        "id": "tCJnecY-gzc8",
        "outputId": "b3929ba3-6d9f-4646-ae3f-18cfc0e53fc0"
      },
      "execution_count": 105,
      "outputs": [
        {
          "output_type": "execute_result",
          "data": {
            "text/plain": [
              "[<matplotlib.lines.Line2D at 0x7c738feaa170>]"
            ]
          },
          "metadata": {},
          "execution_count": 105
        },
        {
          "output_type": "display_data",
          "data": {
            "text/plain": [
              "<Figure size 640x480 with 1 Axes>"
            ],
            "image/png": "[encoded data removed]"
          },
          "metadata": {}
        }
      ]
    },
    {
      "cell_type": "markdown",
      "source": [
        "### 4.10 Desafio 1 - Equação da circunferência\n",
        "\n",
        "Dada a equação da cirunferência, faça o gráfico.\n",
        "$$\n",
        "{(x-a)}^{2} + {(y-b)}^{2} = {r}^{2},\n",
        "r = 100, a = 100, b = 100\n",
        "$$\n"
      ],
      "metadata": {
        "id": "7bKhLHwrhoVv"
      }
    },
    {
      "cell_type": "code",
      "source": [
        "from math import sqrt\n",
        "\n",
        "r,a,b = 100,100,100\n",
        "x = []\n",
        "y = []\n",
        "\n",
        "# Gera uma lista de valores de x que vai de 0 a 200, cobrindo todo o intervalo da circunferência\n",
        "x = [i for i in range(2*r + 1)]\n",
        "\n",
        "\n",
        "# Calcula a coordenada y da parte superior da circunferência\n",
        "y_x = lambda x: sqrt((r**2 - (x-a)**2)) + b\n",
        "\n",
        "# Calcula a coordenada y da parte inferior da circunferência\n",
        "y_x_menos = lambda x: -sqrt((r**2 - (x-a)**2)) + b\n",
        "\n",
        "\n",
        "# Calcula os valores de y a partir de x para a parte superior da circunferência e adiciona à lista y\n",
        "y.extend(list(map(y_x,x)))\n",
        "\n",
        "# Calcula os valores de y a partir de x para a parte inferior da circunferência e adiciona à lista y\n",
        "y.extend(list(map(y_x_menos,x)))\n",
        "\n",
        "\n",
        "# Duplica a lista x para corresponder à duplicação dos valores de y, gerando a outra parte da circunferência\n",
        "x.extend(x)\n",
        "\n",
        "\n",
        "# Gráfico\n",
        "plt.plot(x, y)\n",
        "plt.title('Gráfico da Circunferência') # Adiciona título\n",
        "plt.gca().set_aspect('equal', adjustable='box')  # Ajusta a escala para deixar a circunferência proporcional"
      ],
      "metadata": {
        "colab": {
          "base_uri": "https://localhost:8080/",
          "height": 452
        },
        "id": "HpniFu4jhqxc",
        "outputId": "65720dce-d5f6-401b-ccbd-a3ef7e0ec802"
      },
      "execution_count": 128,
      "outputs": [
        {
          "output_type": "display_data",
          "data": {
            "text/plain": [
              "<Figure size 640x480 with 1 Axes>"
            ],
            "image/png": "[encoded data removed]"
          },
          "metadata": {}
        }
      ]
    },
    {
      "cell_type": "markdown",
      "source": [
        "### 4.11 Preparação para o desafio 2 (LENDO ARQUIVOS)"
      ],
      "metadata": {
        "id": "neVjWK8qmZTO"
      }
    },
    {
      "cell_type": "code",
      "source": [
        "file_path = 'arquivos_auxiliares/PIB_100_maiores_cidades_2017.txt'\n",
        "\n",
        "with open(file_path, encoding='latin-1') as f:\n",
        "  f_data = f.readlines()\n",
        "  f.closed"
      ],
      "metadata": {
        "id": "hnbFQeLPmcpD"
      },
      "execution_count": 134,
      "outputs": []
    },
    {
      "cell_type": "code",
      "source": [
        "# Nomes das colunas\n",
        "lista_colunas = f_data[0].split(',')\n",
        "lista_colunas"
      ],
      "metadata": {
        "colab": {
          "base_uri": "https://localhost:8080/"
        },
        "id": "6W3MTUHrnmCn",
        "outputId": "eb3253dc-c5bb-46cd-cc1b-08b4141f690a"
      },
      "execution_count": 139,
      "outputs": [
        {
          "output_type": "execute_result",
          "data": {
            "text/plain": [
              "['Municípios',\n",
              " 'Estado',\n",
              " 'Posição',\n",
              " 'PIB (1 000 R$)',\n",
              " 'Participação (%)',\n",
              " 'Participação acumulada (%)\\n']"
            ]
          },
          "metadata": {},
          "execution_count": 139
        }
      ]
    },
    {
      "cell_type": "markdown",
      "source": [
        "### 4.12 Desafio 2 - Dados do IBGE - Vanilla\n",
        "\n",
        "**Sem utilizar bibliotecas.**\n",
        "\n",
        "Importe a tabela dos 100 maiores municípios em relação ao PIB e responda as seguintes perguntas:\n",
        "- Quantos municípios estão no estado de São Paulo?\n",
        "- Qual a participação acumulada desses municípios?\n",
        "\n",
        "Dicas e informações:\n",
        "- Fonte dos dados: https://www.ibge.gov.br/estatisticas/downloads-estatisticas.html\n",
        "- Arquivo para importar: ./IBGE-PIB_Municipios_2017/PIB_100_maiores_cidades_2017.txt\n",
        "- Para ler arquivos acesse o tópico 7.2 do link: https://docs.python.org/3/tutorial/inputoutput.html\n",
        "\n"
      ],
      "metadata": {
        "id": "7bLOc67tny3x"
      }
    },
    {
      "cell_type": "code",
      "source": [
        "file_path = 'arquivos_auxiliares/PIB_100_maiores_cidades_2017.txt'\n",
        "\n",
        "with open(file_path, encoding='latin-1') as f:\n",
        "  f_data = f.readlines()\n",
        "  f.closed"
      ],
      "metadata": {
        "id": "5iVUubffshIa"
      },
      "execution_count": 176,
      "outputs": []
    },
    {
      "cell_type": "code",
      "source": [
        "# Contar quantas vezes aparece o estado de SP\n",
        "municipios_sp = 0\n",
        "\n",
        "for i in range(len(f_data)):\n",
        "  if \",SP,\" in (f_data[i]):\n",
        "    municipios_sp += 1\n",
        "\n",
        "municipios_sp"
      ],
      "metadata": {
        "colab": {
          "base_uri": "https://localhost:8080/"
        },
        "id": "sxVG1QaTo6En",
        "outputId": "95a5781a-c1e7-4040-a334-a28011ce7cae"
      },
      "execution_count": 177,
      "outputs": [
        {
          "output_type": "execute_result",
          "data": {
            "text/plain": [
              "36"
            ]
          },
          "metadata": {},
          "execution_count": 177
        }
      ]
    },
    {
      "cell_type": "code",
      "source": [
        "# Qual a participação acumulada desses municípios?\n",
        "linhas = []\n",
        "\n",
        "for i in range(len(f_data)):\n",
        "  linhas.append(f_data[i].split(','))\n",
        "\n",
        "  colunas_dict = {}\n",
        "\n",
        "for i in linhas[0]:\n",
        "  colunas_dict[i] = []\n",
        "\n",
        "  coluna_n = linhas[0].index(i)\n",
        "\n",
        "  for j in range(1,len(linhas)):\n",
        "    colunas_dict[i].append(linhas[j][coluna_n])\n",
        "\n",
        "\n",
        "# Outra maneira de contar os municipios\n",
        "lista_estados = colunas_dict['Estado']\n",
        "numero_municipios_sp = lista_estados.count('SP')\n",
        "print('Número de municípios de SP:', numero_municipios_sp)\n",
        "\n",
        "\n",
        "# Participacao\n",
        "participacao = 0\n",
        "\n",
        "for i in range(len(colunas_dict['Estado'])):\n",
        "  if colunas_dict['Estado'][i] == \"SP\":\n",
        "    participacao += float(colunas_dict['Participação (%)'][i])\n",
        "\n",
        "print('Participação acumulada dos municípios de SP (%)', participacao)"
      ],
      "metadata": {
        "colab": {
          "base_uri": "https://localhost:8080/"
        },
        "id": "a7XVVs5utEJs",
        "outputId": "9da02361-15f9-42f7-ee4a-6e927b9cbbbd"
      },
      "execution_count": 174,
      "outputs": [
        {
          "output_type": "stream",
          "name": "stdout",
          "text": [
            "Número de municípios de SP: 36\n",
            "Participação acumulada dos municípios de SP (%) 23.195820665883666\n"
          ]
        }
      ]
    },
    {
      "cell_type": "markdown",
      "source": [
        "### 4.13 Desafio 2 - Dados do IBGE - usando PANDAS\n",
        "https://pandas.pydata.org/pandas-docs/stable/reference/api/pandas.DataFrame.html\n",
        "\n",
        "Importe a tabela dos 100 maiores municípios em relação ao PIB e responda as seguintes perguntas:\n",
        "- Quantos municípios estão no estado de São Paulo?\n",
        "- Qual a participação acumulada desses municípios?"
      ],
      "metadata": {
        "id": "eS76h7PboLbX"
      }
    },
    {
      "cell_type": "code",
      "source": [
        "import pandas as pd\n",
        "\n",
        "file_path = 'arquivos_auxiliares/PIB_100_maiores_cidades_2017.txt'\n",
        "df = pd.read_csv(file_path, encoding='latin-1')\n",
        "\n",
        "# Quantos municípios estão no estado de São Paulo?\n",
        "n_municipios_sp = sum(df['Estado'] == 'SP')\n",
        "print('Número de municípios de SP:', n_municipios_sp)\n",
        "\n",
        "# Outra opção\n",
        "# count_estados = df['Estado'].value_counts()\n",
        "# print(count_estados)\n",
        "\n",
        "# Qual a participação acumulada desses municípios?\n",
        "is_sp = df['Estado'] == 'SP'\n",
        "df_sp = df[is_sp]\n",
        "p_municipios_sp = df_sp['Participação (%)'].sum()\n",
        "print('Participação acumulada dos municípios de SP (%)', p_municipios_sp)\n",
        "\n"
      ],
      "metadata": {
        "colab": {
          "base_uri": "https://localhost:8080/"
        },
        "id": "LFlg-QDdoSc5",
        "outputId": "13d2ad97-5e8f-419b-af31-0560c9882486"
      },
      "execution_count": 202,
      "outputs": [
        {
          "output_type": "stream",
          "name": "stdout",
          "text": [
            "Número de municípios de SP: 36\n",
            "Participação acumulada dos municípios de SP (%) 23.195820665883673\n"
          ]
        }
      ]
    }
  ]
}